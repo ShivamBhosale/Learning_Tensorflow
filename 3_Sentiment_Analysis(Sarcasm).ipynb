{
 "cells": [
  {
   "cell_type": "code",
   "execution_count": 1,
   "metadata": {},
   "outputs": [],
   "source": [
    "import json\n",
    "import tensorflow as tf\n",
    "\n",
    "from tensorflow.keras.preprocessing.text import Tokenizer\n",
    "from tensorflow.keras.preprocessing.sequence import pad_sequences"
   ]
  },
  {
   "cell_type": "code",
   "execution_count": 2,
   "metadata": {},
   "outputs": [],
   "source": [
    "vocab_size = 10000\n",
    "embedding_dim = 16\n",
    "max_length = 100\n",
    "trunc_type='post'\n",
    "padding_type='post'\n",
    "oov_tok = \"<OOV>\"\n",
    "training_size = 20000"
   ]
  },
  {
   "cell_type": "code",
   "execution_count": 10,
   "metadata": {},
   "outputs": [
    {
     "data": {
      "text/plain": [
       "5643545"
      ]
     },
     "execution_count": 10,
     "metadata": {},
     "output_type": "execute_result"
    }
   ],
   "source": [
    "import requests\n",
    "url = 'https://storage.googleapis.com/laurencemoroney-blog.appspot.com/sarcasm.json'\n",
    "r = requests.get(url, allow_redirects=True)\n",
    "\n",
    "open('sarcasm.json', 'wb').write(r.content)"
   ]
  },
  {
   "cell_type": "code",
   "execution_count": 12,
   "metadata": {},
   "outputs": [],
   "source": [
    "with open(\"sarcasm.json\", 'r') as f:\n",
    "    datastore = json.load(f)\n",
    "\n",
    "sentences = []\n",
    "labels = []\n",
    "\n",
    "for item in datastore:\n",
    "    sentences.append(item['headline'])\n",
    "    labels.append(item['is_sarcastic'])"
   ]
  },
  {
   "cell_type": "code",
   "execution_count": 13,
   "metadata": {},
   "outputs": [],
   "source": [
    "training_sentences = sentences[0:training_size]\n",
    "testing_sentences = sentences[training_size:]\n",
    "training_labels = labels[0:training_size]\n",
    "testing_labels = labels[training_size:]"
   ]
  },
  {
   "cell_type": "code",
   "execution_count": 14,
   "metadata": {},
   "outputs": [],
   "source": [
    "tokenizer = Tokenizer(num_words=vocab_size, oov_token=oov_tok)\n",
    "tokenizer.fit_on_texts(training_sentences)\n",
    "\n",
    "word_index = tokenizer.word_index\n",
    "\n",
    "training_sequences = tokenizer.texts_to_sequences(training_sentences)\n",
    "training_padded = pad_sequences(training_sequences, maxlen=max_length, padding=padding_type, truncating=trunc_type)\n",
    "\n",
    "testing_sequences = tokenizer.texts_to_sequences(testing_sentences)\n",
    "testing_padded = pad_sequences(testing_sequences, maxlen=max_length, padding=padding_type, truncating=trunc_type)"
   ]
  },
  {
   "cell_type": "code",
   "execution_count": 15,
   "metadata": {},
   "outputs": [],
   "source": [
    "# Need this block to get it to work with TensorFlow 2.x\n",
    "import numpy as np\n",
    "training_padded = np.array(training_padded)\n",
    "training_labels = np.array(training_labels)\n",
    "testing_padded = np.array(testing_padded)\n",
    "testing_labels = np.array(testing_labels)"
   ]
  },
  {
   "cell_type": "code",
   "execution_count": 16,
   "metadata": {},
   "outputs": [],
   "source": [
    "model = tf.keras.Sequential([\n",
    "    tf.keras.layers.Embedding(vocab_size, embedding_dim, input_length=max_length),\n",
    "    tf.keras.layers.GlobalAveragePooling1D(),\n",
    "    tf.keras.layers.Dense(24, activation='relu'),\n",
    "    tf.keras.layers.Dense(1, activation='sigmoid')\n",
    "])\n",
    "model.compile(loss='binary_crossentropy',optimizer='adam',metrics=['accuracy'])"
   ]
  },
  {
   "cell_type": "code",
   "execution_count": 17,
   "metadata": {},
   "outputs": [
    {
     "name": "stdout",
     "output_type": "stream",
     "text": [
      "Model: \"sequential\"\n",
      "_________________________________________________________________\n",
      "Layer (type)                 Output Shape              Param #   \n",
      "=================================================================\n",
      "embedding (Embedding)        (None, 100, 16)           160000    \n",
      "_________________________________________________________________\n",
      "global_average_pooling1d (Gl (None, 16)                0         \n",
      "_________________________________________________________________\n",
      "dense (Dense)                (None, 24)                408       \n",
      "_________________________________________________________________\n",
      "dense_1 (Dense)              (None, 1)                 25        \n",
      "=================================================================\n",
      "Total params: 160,433\n",
      "Trainable params: 160,433\n",
      "Non-trainable params: 0\n",
      "_________________________________________________________________\n"
     ]
    }
   ],
   "source": [
    "model.summary()\n"
   ]
  },
  {
   "cell_type": "code",
   "execution_count": 18,
   "metadata": {},
   "outputs": [
    {
     "name": "stdout",
     "output_type": "stream",
     "text": [
      "Epoch 1/30\n",
      "625/625 - 1s - loss: 0.6658 - accuracy: 0.5854 - val_loss: 0.5904 - val_accuracy: 0.8079\n",
      "Epoch 2/30\n",
      "625/625 - 1s - loss: 0.4390 - accuracy: 0.8312 - val_loss: 0.3895 - val_accuracy: 0.8395\n",
      "Epoch 3/30\n",
      "625/625 - 1s - loss: 0.3166 - accuracy: 0.8764 - val_loss: 0.3552 - val_accuracy: 0.8521\n",
      "Epoch 4/30\n",
      "625/625 - 1s - loss: 0.2653 - accuracy: 0.8982 - val_loss: 0.3445 - val_accuracy: 0.8559\n",
      "Epoch 5/30\n",
      "625/625 - 1s - loss: 0.2294 - accuracy: 0.9129 - val_loss: 0.3461 - val_accuracy: 0.8514\n",
      "Epoch 6/30\n",
      "625/625 - 1s - loss: 0.2018 - accuracy: 0.9240 - val_loss: 0.3538 - val_accuracy: 0.8492\n",
      "Epoch 7/30\n",
      "625/625 - 1s - loss: 0.1790 - accuracy: 0.9337 - val_loss: 0.3594 - val_accuracy: 0.8532\n",
      "Epoch 8/30\n",
      "625/625 - 1s - loss: 0.1613 - accuracy: 0.9409 - val_loss: 0.3765 - val_accuracy: 0.8499\n",
      "Epoch 9/30\n",
      "625/625 - 1s - loss: 0.1457 - accuracy: 0.9473 - val_loss: 0.3861 - val_accuracy: 0.8512\n",
      "Epoch 10/30\n",
      "625/625 - 1s - loss: 0.1340 - accuracy: 0.9520 - val_loss: 0.4149 - val_accuracy: 0.8468\n",
      "Epoch 11/30\n",
      "625/625 - 1s - loss: 0.1223 - accuracy: 0.9567 - val_loss: 0.4209 - val_accuracy: 0.8502\n",
      "Epoch 12/30\n",
      "625/625 - 1s - loss: 0.1125 - accuracy: 0.9606 - val_loss: 0.4384 - val_accuracy: 0.8502\n",
      "Epoch 13/30\n",
      "625/625 - 1s - loss: 0.1019 - accuracy: 0.9654 - val_loss: 0.4687 - val_accuracy: 0.8414\n",
      "Epoch 14/30\n",
      "625/625 - 1s - loss: 0.0963 - accuracy: 0.9663 - val_loss: 0.4851 - val_accuracy: 0.8433\n",
      "Epoch 15/30\n",
      "625/625 - 1s - loss: 0.0860 - accuracy: 0.9715 - val_loss: 0.5079 - val_accuracy: 0.8416\n",
      "Epoch 16/30\n",
      "625/625 - 1s - loss: 0.0793 - accuracy: 0.9741 - val_loss: 0.5560 - val_accuracy: 0.8347\n",
      "Epoch 17/30\n",
      "625/625 - 1s - loss: 0.0745 - accuracy: 0.9769 - val_loss: 0.5656 - val_accuracy: 0.8365\n",
      "Epoch 18/30\n",
      "625/625 - 1s - loss: 0.0694 - accuracy: 0.9777 - val_loss: 0.6015 - val_accuracy: 0.8323\n",
      "Epoch 19/30\n",
      "625/625 - 1s - loss: 0.0632 - accuracy: 0.9812 - val_loss: 0.6322 - val_accuracy: 0.8326\n",
      "Epoch 20/30\n",
      "625/625 - 1s - loss: 0.0599 - accuracy: 0.9811 - val_loss: 0.6531 - val_accuracy: 0.8271\n",
      "Epoch 21/30\n",
      "625/625 - 1s - loss: 0.0536 - accuracy: 0.9837 - val_loss: 0.6872 - val_accuracy: 0.8283\n",
      "Epoch 22/30\n",
      "625/625 - 1s - loss: 0.0510 - accuracy: 0.9845 - val_loss: 0.7246 - val_accuracy: 0.8262\n",
      "Epoch 23/30\n",
      "625/625 - 1s - loss: 0.0466 - accuracy: 0.9862 - val_loss: 0.7541 - val_accuracy: 0.8232\n",
      "Epoch 24/30\n",
      "625/625 - 1s - loss: 0.0448 - accuracy: 0.9863 - val_loss: 0.7748 - val_accuracy: 0.8210\n",
      "Epoch 25/30\n",
      "625/625 - 1s - loss: 0.0404 - accuracy: 0.9877 - val_loss: 0.8181 - val_accuracy: 0.8199\n",
      "Epoch 26/30\n",
      "625/625 - 1s - loss: 0.0376 - accuracy: 0.9894 - val_loss: 0.8543 - val_accuracy: 0.8201\n",
      "Epoch 27/30\n",
      "625/625 - 1s - loss: 0.0350 - accuracy: 0.9908 - val_loss: 0.9161 - val_accuracy: 0.8167\n",
      "Epoch 28/30\n",
      "625/625 - 1s - loss: 0.0316 - accuracy: 0.9913 - val_loss: 0.9349 - val_accuracy: 0.8161\n",
      "Epoch 29/30\n",
      "625/625 - 1s - loss: 0.0312 - accuracy: 0.9909 - val_loss: 0.9728 - val_accuracy: 0.8170\n",
      "Epoch 30/30\n",
      "625/625 - 1s - loss: 0.0278 - accuracy: 0.9922 - val_loss: 1.0267 - val_accuracy: 0.8158\n"
     ]
    }
   ],
   "source": [
    "num_epochs = 30\n",
    "history = model.fit(training_padded, training_labels, epochs=num_epochs, validation_data=(testing_padded, testing_labels), verbose=2)"
   ]
  },
  {
   "cell_type": "code",
   "execution_count": 19,
   "metadata": {},
   "outputs": [
    {
     "data": {
      "image/png": "[encoded data removed]",
      "text/plain": [
       "<Figure size 432x288 with 1 Axes>"
      ]
     },
     "metadata": {
      "needs_background": "light"
     },
     "output_type": "display_data"
    },
    {
     "data": {
      "image/png": "[encoded data removed]",
      "text/plain": [
       "<Figure size 432x288 with 1 Axes>"
      ]
     },
     "metadata": {
      "needs_background": "light"
     },
     "output_type": "display_data"
    }
   ],
   "source": [
    "import matplotlib.pyplot as plt\n",
    "\n",
    "\n",
    "def plot_graphs(history, string):\n",
    "  plt.plot(history.history[string])\n",
    "  plt.plot(history.history['val_'+string])\n",
    "  plt.xlabel(\"Epochs\")\n",
    "  plt.ylabel(string)\n",
    "  plt.legend([string, 'val_'+string])\n",
    "  plt.show()\n",
    "  \n",
    "plot_graphs(history, \"accuracy\")\n",
    "plot_graphs(history, \"loss\")"
   ]
  },
  {
   "cell_type": "code",
   "execution_count": 20,
   "metadata": {},
   "outputs": [
    {
     "name": "stdout",
     "output_type": "stream",
     "text": [
      "former <OOV> store clerk sues over secret 'black <OOV> for minority shoppers ? ? ? ? ? ? ? ? ? ? ? ? ? ? ? ? ? ? ? ? ? ? ? ? ? ? ? ? ? ? ? ? ? ? ? ? ? ? ? ? ? ? ? ? ? ? ? ? ? ? ? ? ? ? ? ? ? ? ? ? ? ? ? ? ? ? ? ? ? ? ? ? ? ? ? ? ? ? ? ? ? ? ? ? ? ? ? ?\n",
      "mom starting to fear son's web series closest thing she will have to grandchild\n",
      "1\n"
     ]
    }
   ],
   "source": [
    "reverse_word_index = dict([(value, key) for (key, value) in word_index.items()])\n",
    "\n",
    "def decode_sentence(text):\n",
    "    return ' '.join([reverse_word_index.get(i, '?') for i in text])\n",
    "\n",
    "print(decode_sentence(training_padded[0]))\n",
    "print(training_sentences[2])\n",
    "print(labels[2])"
   ]
  },
  {
   "cell_type": "code",
   "execution_count": 21,
   "metadata": {},
   "outputs": [
    {
     "name": "stdout",
     "output_type": "stream",
     "text": [
      "(10000, 16)\n"
     ]
    }
   ],
   "source": [
    "e = model.layers[0]\n",
    "weights = e.get_weights()[0]\n",
    "print(weights.shape) # shape: (vocab_size, embedding_dim)\n"
   ]
  },
  {
   "cell_type": "code",
   "execution_count": 22,
   "metadata": {},
   "outputs": [
    {
     "name": "stdout",
     "output_type": "stream",
     "text": [
      "[[8.3953130e-01]\n",
      " [8.5948395e-06]\n",
      " [1.1921227e-03]\n",
      " [4.3703822e-06]]\n"
     ]
    }
   ],
   "source": [
    "sentence = [\"granny starting to fear spiders in the garden might be real\", \"game of thrones season finale showing this sunday night\",\"Ofcourse you are so Intelligent\",\"I'm good at Saracasm\"]\n",
    "sequences = tokenizer.texts_to_sequences(sentence)\n",
    "padded = pad_sequences(sequences, maxlen=max_length, padding=padding_type, truncating=trunc_type)\n",
    "print(model.predict(padded))"
   ]
  },
  {
   "cell_type": "markdown",
   "metadata": {},
   "source": [
    "This First output is about 0.91 which is close to 1, indicating the sentences is somewhat sarcastic , similarly all the other sentences have been scored accordingly from 0 - 1."
   ]
  },
  {
   "cell_type": "code",
   "execution_count": null,
   "metadata": {},
   "outputs": [],
   "source": []
  }
 ],
 "metadata": {
  "kernelspec": {
   "display_name": "Python 3.7 (tensorflow)",
   "language": "python",
   "name": "tensorflow"
  },
  "language_info": {
   "codemirror_mode": {
    "name": "ipython",
    "version": 3
   },
   "file_extension": ".py",
   "mimetype": "text/x-python",
   "name": "python",
   "nbconvert_exporter": "python",
   "pygments_lexer": "ipython3",
   "version": "3.7.7"
  }
 },
 "nbformat": 4,
 "nbformat_minor": 4
}
